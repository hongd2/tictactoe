{
 "cells": [
  {
   "cell_type": "code",
   "execution_count": null,
   "metadata": {
    "collapsed": true
   },
   "outputs": [],
   "source": [
    "class Grid:\n",
    "    # Create grid\n",
    "    grid = []\n",
    "    def __init__(self):\n",
    "        self.grid = [[' ',' ',' '],\n",
    "                    [' ',' ',' '],\n",
    "                    [' ',' ',' ']]\n",
    "    \n",
    "    # Print the Tic-Tac-Toe board with pieces (if any)\n",
    "    def print_grid(self):\n",
    "        for i in range(2):\n",
    "            print(\"\", self.grid[i][0], \"|\", self.grid[i][1], \"|\", self.grid[i][2]) #Print tic tac toe piece\n",
    "            print(\"---\",\"---\",\"---\") #Print horizontal divider\n",
    "        print(\"\", self.grid[2][0], \"|\", self.grid[2][1], \"|\", self.grid[2][2]) #Print last line\n",
    "\n",
    "    "
   ]
  },
  {
   "cell_type": "code",
   "execution_count": null,
   "metadata": {
    "collapsed": true
   },
   "outputs": [],
   "source": []
  }
 ],
 "metadata": {
  "kernelspec": {
   "display_name": "Python 3",
   "language": "python",
   "name": "python3"
  },
  "language_info": {
   "codemirror_mode": {
    "name": "ipython",
    "version": 3
   },
   "file_extension": ".py",
   "mimetype": "text/x-python",
   "name": "python",
   "nbconvert_exporter": "python",
   "pygments_lexer": "ipython3",
   "version": "3.4.3"
  }
 },
 "nbformat": 4,
 "nbformat_minor": 0
}
