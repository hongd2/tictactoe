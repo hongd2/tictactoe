{
 "cells": [
  {
   "cell_type": "code",
   "execution_count": 1,
   "metadata": {
    "collapsed": true
   },
   "outputs": [],
   "source": [
    "from Player import Player\n",
    "class AI(Player):\n",
    "#     This class extends Player\n",
    "#\n",
    "#\n",
    "#     check_valid(point) Returns True if the proposed singular point is within the constraints [0:2]\n",
    "#     def check_valid(self, point):\n",
    "#         if point < 0 or point > 2:\n",
    "#             return False\n",
    "#         return True\n",
    "#    \n",
    "#     check_occupancy(x, y) Returns True if the proposed coordinate is vacant\n",
    "#\n",
    "#     def check_occupancy(self, x, y):\n",
    "#         if self.grid.grid[x][y] != ' ':\n",
    "#             return False\n",
    "#         return True\n",
    "#\n",
    "#\n",
    "#     move() Returns True if winner is found\n",
    "#\n",
    "#     def move(self):\n",
    "#         (x, y) = self.get_coordinate()\n",
    "#         self.grid.grid[x][y] = self.piece\n",
    "#         if self.check_winner():\n",
    "#             return True\n",
    "#            \n",
    "#         return False\n",
    "\n",
    "\n",
    "    # When AI is constructed in TicTacToe.py, the below move() overrides the inherited move().\n",
    "    #\n",
    "    # Add your own AI here, making sure that you use check_valid and check_occupancy.\n",
    "    # Or override those two functions yourself.\n",
    "    #\n",
    "    # My AI algorithm just finds the first available spot to put a mark.\n",
    "    \n",
    "    def move(self):\n",
    "        for x in range(3):\n",
    "            for y in range(3):\n",
    "                if not self.check_valid(x) or not self.check_valid(y) or not self.check_occupancy(x, y):\n",
    "                    continue\n",
    "                self.grid.grid[x][y] = self.piece\n",
    "                if self.check_winner():\n",
    "                    return True\n",
    "                return False\n",
    "        \n",
    "                \n",
    "                "
   ]
  },
  {
   "cell_type": "code",
   "execution_count": null,
   "metadata": {
    "collapsed": true
   },
   "outputs": [],
   "source": []
  }
 ],
 "metadata": {
  "kernelspec": {
   "display_name": "Python 3",
   "language": "python",
   "name": "python3"
  },
  "language_info": {
   "codemirror_mode": {
    "name": "ipython",
    "version": 3
   },
   "file_extension": ".py",
   "mimetype": "text/x-python",
   "name": "python",
   "nbconvert_exporter": "python",
   "pygments_lexer": "ipython3",
   "version": "3.4.3"
  }
 },
 "nbformat": 4,
 "nbformat_minor": 0
}
